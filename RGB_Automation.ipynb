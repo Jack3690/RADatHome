{
  "nbformat": 4,
  "nbformat_minor": 0,
  "metadata": {
    "colab": {
      "name": "Copy of RGB_Automation.ipynb",
      "provenance": [],
      "collapsed_sections": []
    },
    "kernelspec": {
      "name": "python3",
      "display_name": "Python 3"
    }
  },
  "cells": [
    {
      "cell_type": "code",
      "metadata": {
        "id": "tLOh5Ngyj19v"
      },
      "source": [
        "from astroquery.skyview import SkyView\r\n",
        "import matplotlib.pyplot as plt\r\n",
        "import numpy as np\r\n",
        "import astropy.units as u\r\n",
        "from astropy.wcs import WCS\r\n",
        "import matplotlib\r\n",
        "from ipywidgets import widgets\r\n",
        "from matplotlib import gridspec\r\n",
        "%matplotlib inline\r\n",
        "matplotlib.rcParams['font.size']=15"
      ],
      "execution_count": null,
      "outputs": []
    },
    {
      "cell_type": "code",
      "metadata": {
        "id": "v8TVpg5B_1YF"
      },
      "source": [
        "surveys={\r\n",
        "    'Optical':['DSS2 IR', 'DSS2 Red','DSS2 Blue'],\r\n",
        "    'IOU' :  ['WISE 22','DSS2 Red','GALEX Near UV'],\r\n",
        "    'ROR' : ['TGSS ADR1', 'DSS2 Red','NVSS']\r\n",
        "}"
      ],
      "execution_count": null,
      "outputs": []
    },
    {
      "cell_type": "code",
      "metadata": {
        "id": "vFru2bSU-Cnf"
      },
      "source": [
        "def make_RGB(position,radius=1,survey='Optical'):\r\n",
        "  try:\r\n",
        "    if survey=='ROR':\r\n",
        "      paths = SkyView.get_images(position=position,pixels=600,scaling=\"Sqrt\",sampler='Lanczos3',radius=radius*u.degree,survey=surveys[survey])\r\n",
        "    else:\r\n",
        "      paths = SkyView.get_images(position=position,pixels=600,scaling=\"Log\",radius=radius*u.degree,survey=surveys[survey])\r\n",
        "    RGB=[]\r\n",
        "    for i,path in enumerate(paths):\r\n",
        "      img=path[0].data.copy()\r\n",
        "\r\n",
        "      min=img.min()\r\n",
        "      img=img-min\r\n",
        "      \r\n",
        "      max=img.max()\r\n",
        "      RGB.append(img/max)\r\n",
        "    RGB=np.array(RGB)\r\n",
        "    RGB=np.stack((RGB[0],RGB[1],RGB[2]),axis=2)\r\n",
        "\r\n",
        "    wcs = WCS(paths[0][0].header)\r\n",
        "  except :\r\n",
        "    print(f\"{survey} image not found in Server for {position} \")\r\n",
        "    RGB=wcs=None\r\n",
        "  return RGB,wcs"
      ],
      "execution_count": null,
      "outputs": []
    },
    {
      "cell_type": "code",
      "metadata": {
        "id": "btdiwza7L_Nq"
      },
      "source": [
        "def init_contour(position,survey,radius=1):\r\n",
        "  try:\r\n",
        "    if survey=='TGSS':\r\n",
        "      paths = SkyView.get_images(position=position,pixels=600,scaling=\"Sqrt\",sampler='Lanczos3',radius=radius*u.degree,survey=['TGSS ADR1'])\r\n",
        "      img=paths[0][0].data.copy()\r\n",
        "    elif survey=='NVSS':\r\n",
        "      paths = SkyView.get_images(position=position,pixels=600,scaling=\"Sqrt\",sampler='Lanczos3',radius=radius*u.degree,survey=['NVSS'])\r\n",
        "      img=paths[0][0].data.copy()\r\n",
        "\r\n",
        "    wcs = WCS(paths[0][0].header)\r\n",
        "  except:\r\n",
        "    print(f\"{survey} image not found for {position}\")\r\n",
        "    img=wcs=None\r\n",
        "  return img,wcs"
      ],
      "execution_count": null,
      "outputs": []
    },
    {
      "cell_type": "code",
      "metadata": {
        "id": "UqiCD3Q1CzrZ"
      },
      "source": [
        "def RAD_RGB(position,radius,name,levels=4):\r\n",
        "  i=1\r\n",
        "  # RGB-TGSS\r\n",
        "  RGB,wcs=make_RGB(position=position,radius=radius,survey='Optical')\r\n",
        "  if wcs!=None:\r\n",
        "    fig=plt.figure(figsize=(10,10))\r\n",
        "    ax=fig.add_subplot(projection=wcs)\r\n",
        "    ax.imshow(RGB)\r\n",
        "    ax.set_autoscale_on(False)\r\n",
        "\r\n",
        "    img,wcs_c= init_contour(position=position, survey='TGSS',radius=radius)\r\n",
        "    levels_c=np.arange(0.015,img.max(),(img.max()-0.015)/levels)\r\n",
        "    ax.contour(img, transform=ax.get_transform(wcs), colors='white',levels=levels_c)\r\n",
        "\r\n",
        "    ax.set_title(f'Optical RGB with TGSS contours of {position}')\r\n",
        "    ax.annotate(\"#RGBviaNASAnRADatHomeIndia\",(10,10),color='red')\r\n",
        "    ax.annotate(f\"By {name}\",(450,10),color='red')\r\n",
        "    plt.savefig(f'{position}{i}',bbox_inches = 'tight')\r\n",
        "    i+=1\r\n",
        "    wcs=None\r\n",
        "\r\n",
        "  # IOU-TGSS\r\n",
        "  RGB,wcs=make_RGB(position=position,radius=radius,survey='IOU')\r\n",
        "  if wcs!=None:\r\n",
        "    fig=plt.figure(figsize=(10,10))\r\n",
        "    ax=fig.add_subplot(projection=wcs)\r\n",
        "    ax.imshow(RGB)\r\n",
        "\r\n",
        "    ax.set_title(f'IOU with TGSS Contours of {position}')\r\n",
        "    ax.annotate(\"#RGBviaNASAnRADatHomeIndia\",(10,10),color='red')\r\n",
        "    ax.annotate(f\"By {name}\",(450,10),color='red')\r\n",
        "    ax.set_autoscale_on(False)\r\n",
        "\r\n",
        "    img,wcs_c= init_contour(position=position, survey='TGSS',radius=radius)\r\n",
        "    levels_c=np.arange(0.015,img.max(),(img.max()-0.015)/levels)\r\n",
        "    ax.contour(img, transform=ax.get_transform(wcs), colors='white',levels=levels_c)\r\n",
        "    plt.savefig(f'{position}{i}',bbox_inches = 'tight')\r\n",
        "    i+=1\r\n",
        "    wcs=None\r\n",
        "\r\n",
        "  # ROR-TGSS\r\n",
        "  RGB,wcs=make_RGB(position=position,radius=radius,survey='ROR')\r\n",
        "  if wcs!=None:\r\n",
        "    fig=plt.figure(figsize=(10,10))\r\n",
        "    ax=fig.add_subplot(projection=wcs)\r\n",
        "    ax.imshow(RGB)\r\n",
        "\r\n",
        "    ax.set_title(f'ROR with TGSS contours of {position}')\r\n",
        "    ax.annotate(\"#RGBviaNASAnRADatHomeIndia\",(10,10),color='red')\r\n",
        "    ax.annotate(f\"By {name}\",(450,10),color='red')\r\n",
        "    ax.set_autoscale_on(False)\r\n",
        "\r\n",
        "    img,wcs_c= init_contour(position=position, survey='TGSS',radius=radius)\r\n",
        "    levels_c=np.arange(0.015,img.max(),(img.max()-0.015)/levels)\r\n",
        "    ax.contour(img, transform=ax.get_transform(wcs), colors='white',levels=levels_c)\r\n",
        "    plt.savefig(f'{position}{i}',bbox_inches = 'tight')\r\n",
        "    i+=1\r\n",
        "    wcs=None\r\n",
        "\r\n",
        "  # ROR-NVSS\r\n",
        "  RGB,wcs=make_RGB(position=position,radius=radius,survey='ROR')\r\n",
        "  if wcs!=None:\r\n",
        "    fig=plt.figure(figsize=(10,10))\r\n",
        "    ax=fig.add_subplot(projection=wcs)\r\n",
        "    ax.imshow(RGB)\r\n",
        "\r\n",
        "    ax.set_title(f'ROR with NVSS Contours of {position}')\r\n",
        "    ax.annotate(\"#RGBviaNASAnRADatHomeIndia\",(10,10),color='red')\r\n",
        "    ax.annotate(f\"By {name}\",(450,10),color='red')\r\n",
        "    ax.set_autoscale_on(False)\r\n",
        "\r\n",
        "    img,wcs_c= init_contour(position=position, survey='NVSS',radius=radius)\r\n",
        "    levels_c=np.arange(0.0015,img.max(),(img.max()-0.0015)/levels)\r\n",
        "    ax.contour(img, transform=ax.get_transform(wcs), colors='white',levels=levels_c)\r\n",
        "    plt.show()\r\n",
        "    plt.savefig(f'{position}{i}',bbox_inches = 'tight')"
      ],
      "execution_count": null,
      "outputs": []
    },
    {
      "cell_type": "markdown",
      "metadata": {
        "id": "Fcytgnx8ck4u"
      },
      "source": [
        "# **RAD@Home RGB Maker**"
      ]
    },
    {
      "cell_type": "code",
      "metadata": {
        "colab": {
          "base_uri": "https://localhost:8080/",
          "height": 129
        },
        "id": "LDcwln8PPfcl",
        "outputId": "60771041-a391-4652-84eb-068e05fcd6db"
      },
      "source": [
        "l1= widgets.Label(\"Your name \")\r\n",
        "display(l1)\r\n",
        "name = widgets.Text()\r\n",
        "display(name)\r\n",
        "\r\n",
        "l2= widgets.Label(\"Source name or coordinates\")\r\n",
        "display(l2)\r\n",
        "pos =widgets.Text()\r\n",
        "display(pos)\r\n",
        "\r\n",
        "l3= widgets.Label(\"Radius in degrees \")\r\n",
        "display(l3)\r\n",
        "r = widgets.Text()\r\n",
        "display(r)\r\n",
        "\r\n",
        "btn=widgets.Button(description=\"Submit\")\r\n",
        "display(btn)\r\n",
        "\r\n",
        "output = widgets.Output()\r\n",
        "\r\n",
        "@output.capture(clear_output=True,wait=True)\r\n",
        "\r\n",
        "def submit(b):\r\n",
        "    l4= widgets.Label(\"Loading images...\",font_size=75)\r\n",
        "    display(l4)\r\n",
        "    try:\r\n",
        "        if len(name.value)> 2 and len(pos.value)>2 and len(r.value)>0:\r\n",
        "            RAD_RGB(position= pos.value,name=name.value,radius=float(r.value))\r\n",
        "        elif len(r.value)>2 and len(pos.value) >2:\r\n",
        "            l5= widgets.Label(\"Default name set\")\r\n",
        "            display(l5)\r\n",
        "            RAD_RGB(position= pos.value,name=\"Anonymous\",radius=float(r.value)) \r\n",
        "        else:\r\n",
        "            l5= widgets.Label(\"Enter Position and Radius\")\r\n",
        "            display(l5)\r\n",
        "    except:\r\n",
        "        l5= widgets.Label(\"Data not Found\")\r\n",
        "        display(l5)       \r\n",
        "btn.on_click(submit)\r\n",
        "output"
      ],
      "execution_count": 1,
      "outputs": [
        {
          "output_type": "error",
          "ename": "SyntaxError",
          "evalue": "ignored",
          "traceback": [
            "\u001b[0;36m  File \u001b[0;32m\"<ipython-input-1-66fa99c2fbaf>\"\u001b[0;36m, line \u001b[0;32m30\u001b[0m\n\u001b[0;31m    l5= widgets.Label(Default name set\\)\u001b[0m\n\u001b[0m                                 ^\u001b[0m\n\u001b[0;31mSyntaxError\u001b[0m\u001b[0;31m:\u001b[0m invalid syntax\n"
          ]
        }
      ]
    },
    {
      "cell_type": "code",
      "metadata": {
        "id": "-LYEnnu6TKSJ"
      },
      "source": [
        "\r\n",
        "\r\n",
        "\r\n"
      ],
      "execution_count": null,
      "outputs": []
    },
    {
      "cell_type": "code",
      "metadata": {
        "id": "41exoxl4PvSF"
      },
      "source": [
        ""
      ],
      "execution_count": null,
      "outputs": []
    }
  ]
}